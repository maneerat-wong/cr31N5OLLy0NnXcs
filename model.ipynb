{
 "cells": [
  {
   "cell_type": "markdown",
   "metadata": {},
   "source": [
    "# Customer Satisfication Prediction using Machine Learning\n",
    "\n",
    "The company is one of the fastest growing startups in the logistics and delivery domain and works with several partners and make on-demand delivery to our customers. The company wants to to measure how happy each customer is in order to grow with the right global expansion strategy.\n",
    "\n",
    "The company provides me a dataset of several customer feedback and a label whether the customer is happy.\n",
    "\n",
    "## Goal\n",
    "\n",
    "- Predict if a customer is happy or not based on the answers they give to questions asked. The company is aiming for 73% accuracy score or above\n",
    "- Find which questions/features are more important when predicting a customer’s happiness\n"
   ]
  },
  {
   "cell_type": "code",
   "execution_count": 1,
   "metadata": {},
   "outputs": [],
   "source": [
    "import pandas as pd\n",
    "import numpy as np\n",
    "from sklearn.model_selection import train_test_split, GridSearchCV, StratifiedKFold\n",
    "\n",
    "# models\n",
    "from sklearn.linear_model import LogisticRegression\n",
    "from sklearn.neighbors import KNeighborsClassifier\n",
    "from sklearn.tree import DecisionTreeClassifier\n",
    "from sklearn.ensemble import RandomForestClassifier\n",
    "from sklearn.svm import SVC \n",
    "import xgboost as xgb\n",
    "\n",
    "# accuracy metrics\n",
    "from sklearn.metrics import classification_report, f1_score, accuracy_score\n",
    "\n",
    "import matplotlib.pyplot as plt\n",
    "import seaborn as sns\n",
    "\n",
    "from scipy import stats"
   ]
  },
  {
   "cell_type": "markdown",
   "metadata": {},
   "source": [
    "## Data exploration"
   ]
  },
  {
   "cell_type": "code",
   "execution_count": null,
   "metadata": {},
   "outputs": [
    {
     "data": {
      "text/html": [
       "<div>\n",
       "<style scoped>\n",
       "    .dataframe tbody tr th:only-of-type {\n",
       "        vertical-align: middle;\n",
       "    }\n",
       "\n",
       "    .dataframe tbody tr th {\n",
       "        vertical-align: top;\n",
       "    }\n",
       "\n",
       "    .dataframe thead th {\n",
       "        text-align: right;\n",
       "    }\n",
       "</style>\n",
       "<table border=\"1\" class=\"dataframe\">\n",
       "  <thead>\n",
       "    <tr style=\"text-align: right;\">\n",
       "      <th></th>\n",
       "      <th>Y</th>\n",
       "      <th>X1</th>\n",
       "      <th>X2</th>\n",
       "      <th>X3</th>\n",
       "      <th>X4</th>\n",
       "      <th>X5</th>\n",
       "      <th>X6</th>\n",
       "    </tr>\n",
       "  </thead>\n",
       "  <tbody>\n",
       "    <tr>\n",
       "      <th>0</th>\n",
       "      <td>0</td>\n",
       "      <td>3</td>\n",
       "      <td>3</td>\n",
       "      <td>3</td>\n",
       "      <td>4</td>\n",
       "      <td>2</td>\n",
       "      <td>4</td>\n",
       "    </tr>\n",
       "    <tr>\n",
       "      <th>1</th>\n",
       "      <td>0</td>\n",
       "      <td>3</td>\n",
       "      <td>2</td>\n",
       "      <td>3</td>\n",
       "      <td>5</td>\n",
       "      <td>4</td>\n",
       "      <td>3</td>\n",
       "    </tr>\n",
       "    <tr>\n",
       "      <th>2</th>\n",
       "      <td>1</td>\n",
       "      <td>5</td>\n",
       "      <td>3</td>\n",
       "      <td>3</td>\n",
       "      <td>3</td>\n",
       "      <td>3</td>\n",
       "      <td>5</td>\n",
       "    </tr>\n",
       "    <tr>\n",
       "      <th>3</th>\n",
       "      <td>0</td>\n",
       "      <td>5</td>\n",
       "      <td>4</td>\n",
       "      <td>3</td>\n",
       "      <td>3</td>\n",
       "      <td>3</td>\n",
       "      <td>5</td>\n",
       "    </tr>\n",
       "    <tr>\n",
       "      <th>4</th>\n",
       "      <td>0</td>\n",
       "      <td>5</td>\n",
       "      <td>4</td>\n",
       "      <td>3</td>\n",
       "      <td>3</td>\n",
       "      <td>3</td>\n",
       "      <td>5</td>\n",
       "    </tr>\n",
       "  </tbody>\n",
       "</table>\n",
       "</div>"
      ],
      "text/plain": [
       "   Y  X1  X2  X3  X4  X5  X6\n",
       "0  0   3   3   3   4   2   4\n",
       "1  0   3   2   3   5   4   3\n",
       "2  1   5   3   3   3   3   5\n",
       "3  0   5   4   3   3   3   5\n",
       "4  0   5   4   3   3   3   5"
      ]
     },
     "execution_count": 2,
     "metadata": {},
     "output_type": "execute_result"
    }
   ],
   "source": [
    "# understanding the data\n",
    "df = pd.read_csv('HappinessSurvey2020.csv')\n",
    "\n",
    "df.head()"
   ]
  },
  {
   "cell_type": "markdown",
   "metadata": {},
   "source": [
    "### Data Description\n",
    "\n",
    "* Y = target attribute (Y) with values indicating 0 (unhappy) and 1 (happy) customers \n",
    "* X1 = my order was delivered on time\n",
    "* X2 = contents of my order was as I expected\n",
    "* X3 = I ordered everything I wanted to order\n",
    "* X4 = I paid a good price for my order\n",
    "* X5 = I am satisfied with my courier\n",
    "* X6 = the app makes ordering easy for me\n",
    "\n",
    "Attributes X1 to X6 indicate the responses for each question and have values from 1 to 5 where the smaller number indicates less and the higher number indicates more towards the answer."
   ]
  },
  {
   "cell_type": "code",
   "execution_count": 3,
   "metadata": {},
   "outputs": [
    {
     "data": {
      "text/plain": [
       "Y     0\n",
       "X1    0\n",
       "X2    0\n",
       "X3    0\n",
       "X4    0\n",
       "X5    0\n",
       "X6    0\n",
       "dtype: int64"
      ]
     },
     "execution_count": 3,
     "metadata": {},
     "output_type": "execute_result"
    }
   ],
   "source": [
    "# Checking for NaN\n",
    "df.isna().sum()"
   ]
  },
  {
   "cell_type": "markdown",
   "metadata": {},
   "source": [
    "There is no NaN value that we have to handle in this example."
   ]
  },
  {
   "cell_type": "code",
   "execution_count": 4,
   "metadata": {},
   "outputs": [
    {
     "data": {
      "image/png": "[encoded data removed]",
      "text/plain": [
       "<Figure size 640x480 with 1 Axes>"
      ]
     },
     "metadata": {},
     "output_type": "display_data"
    }
   ],
   "source": [
    "label_counts = df['Y'].value_counts()\n",
    "sns.countplot(x='Y', data=df)\n",
    "plt.title('Value counts for each label')\n",
    "plt.show()"
   ]
  },
  {
   "cell_type": "code",
   "execution_count": 5,
   "metadata": {},
   "outputs": [
    {
     "name": "stdout",
     "output_type": "stream",
     "text": [
      "class 0 accounts for 45.24% out of 100%\n"
     ]
    }
   ],
   "source": [
    "# Find the difference between two classes\n",
    "print(f\"class 0 accounts for {(len(df[df['Y'] == 0])/len(df)) * 100:.2f}% out of 100%\")"
   ]
  },
  {
   "cell_type": "markdown",
   "metadata": {},
   "source": [
    "We can see that the label is slightly imbalanced but it's only 5% difference so I don't think we need to handle this issue"
   ]
  },
  {
   "cell_type": "markdown",
   "metadata": {},
   "source": [
    "## Data Skewness"
   ]
  },
  {
   "cell_type": "code",
   "execution_count": 6,
   "metadata": {},
   "outputs": [
    {
     "data": {
      "image/png": "[encoded data removed]",
      "text/plain": [
       "<Figure size 640x480 with 1 Axes>"
      ]
     },
     "metadata": {},
     "output_type": "display_data"
    }
   ],
   "source": [
    "df.boxplot()\n",
    "plt.show()"
   ]
  },
  {
   "cell_type": "code",
   "execution_count": 7,
   "metadata": {},
   "outputs": [
    {
     "data": {
      "text/plain": [
       "Y    -0.193659\n",
       "X1   -1.058468\n",
       "X2    0.271000\n",
       "X3   -0.199536\n",
       "X4   -0.422240\n",
       "X5   -0.699999\n",
       "X6   -0.957590\n",
       "dtype: float64"
      ]
     },
     "execution_count": 7,
     "metadata": {},
     "output_type": "execute_result"
    }
   ],
   "source": [
    "df.skew()"
   ]
  },
  {
   "cell_type": "markdown",
   "metadata": {},
   "source": [
    "* I can see that most features have left-skewed distribution which lead to negative skewness. This should be handled before we train the data since the skewness will affect the performance of the data.\n",
    "* I choose to do boxcox for X1 and X6 since these 2 features are highly skewed and sqrt for X5. "
   ]
  },
  {
   "cell_type": "code",
   "execution_count": 8,
   "metadata": {},
   "outputs": [],
   "source": [
    "df['X1'], _ = stats.boxcox(df['X1'])\n",
    "df['X6'], _ = stats.boxcox(df['X6'])\n",
    "df['X5'], _ = stats.boxcox(df['X5'])"
   ]
  },
  {
   "cell_type": "code",
   "execution_count": 9,
   "metadata": {},
   "outputs": [
    {
     "data": {
      "text/plain": [
       "Y    -0.193659\n",
       "X1   -0.381695\n",
       "X2    0.271000\n",
       "X3   -0.199536\n",
       "X4   -0.422240\n",
       "X5   -0.274511\n",
       "X6   -0.278770\n",
       "dtype: float64"
      ]
     },
     "execution_count": 9,
     "metadata": {},
     "output_type": "execute_result"
    }
   ],
   "source": [
    "# Check skewness after the tranformation\n",
    "df.skew()"
   ]
  },
  {
   "cell_type": "markdown",
   "metadata": {},
   "source": [
    "## Data Correlation in order to select features"
   ]
  },
  {
   "cell_type": "code",
   "execution_count": 10,
   "metadata": {},
   "outputs": [
    {
     "data": {
      "text/plain": [
       "Y     1.000000\n",
       "X1    0.292396\n",
       "X2   -0.024274\n",
       "X3    0.150838\n",
       "X4    0.064415\n",
       "X5    0.227385\n",
       "X6    0.171459\n",
       "Name: Y, dtype: float64"
      ]
     },
     "execution_count": 10,
     "metadata": {},
     "output_type": "execute_result"
    }
   ],
   "source": [
    "df.corr()['Y']"
   ]
  },
  {
   "cell_type": "markdown",
   "metadata": {},
   "source": [
    "X5 has the highest linear correlation to the label while X2 has very low correlation to the label. \n",
    "Therfore, I will remove this feature from the model"
   ]
  },
  {
   "cell_type": "code",
   "execution_count": 11,
   "metadata": {},
   "outputs": [],
   "source": [
    "y = df['Y']\n",
    "x = df.drop(columns=['Y','X2'])"
   ]
  },
  {
   "cell_type": "markdown",
   "metadata": {},
   "source": [
    "## Model Training"
   ]
  },
  {
   "cell_type": "code",
   "execution_count": 12,
   "metadata": {},
   "outputs": [],
   "source": [
    "# split the data to train and test dataset\n",
    "X_train, X_test, y_train, y_test = train_test_split(x, y, test_size = 0.2, random_state = 0)"
   ]
  },
  {
   "cell_type": "code",
   "execution_count": null,
   "metadata": {},
   "outputs": [],
   "source": [
    "# Model that I am going to implement for the prediction\n",
    "models = ['LogisticRegression','KNeighborsClassifier','RandomForestClassifier', 'DecisionTreeClassifier', 'SVC', 'xgb']\n",
    "\n",
    "# Parameter that I will use for the model tuning through GridSearchCV\n",
    "param_grid = dict()\n",
    "param_grid['LogisticRegression'] = {'C': [1/0.0001, 1/0.001, 1/0.01, 1/0.1]} # inverse of regularization term \n",
    "\n",
    "param_grid['DecisionTreeClassifier'] = {'criterion': ['entropy', 'log_loss', 'gini'], # measure of impurity\n",
    "                                        'max_depth': [3, 5, 10, None], # how many levels does the tree have?\n",
    "                                        'min_samples_split': [2, 3, 4, 5], # how many samples are needed to make a split?\n",
    "                                       }\n",
    "param_grid['RandomForestClassifier'] = {'n_estimators': [200, 300, 400, 500], # number of trees in the forest\n",
    "                                        'max_depth': np.arange(1, len(X_train.columns), 1), # how many levels does the tree have?\n",
    "                                        'min_samples_split': [3, 4, 5], # how many samples are needed to make a split?\n",
    "                                       } \n",
    "param_grid['KNeighborsClassifier'] = {'n_neighbors' : np.arange(2, 40, 2)} # how many neighbors should be group together? \n",
    "\n",
    "param_grid['SVC'] = {'C': [0.0001, 0.001, 0.01, 0.1], # regularization term\n",
    "                     'kernel': ['rbf', 'linear', 'poly'] # kernel trick method\n",
    "                     }\n",
    "param_grid['xgb'] = {'n_estimators': [500, 1000, 1500, 2000], # number of trees in the forest\n",
    "                    'max_depth': [3, 4, 5], # max depth of the trees\n",
    "                    'learning_rate': [0.01, 0.1, 0.05], # learning rate for each round\n",
    "                    'gamma': [0, 1, 2], # regularization term\n",
    "                    'min_child_weight': [1, 3, 5], # minimum sum of the weight for each child(leaf) in the tree\n",
    "                    'gamma': [0, 1, 2], # regularization term\n",
    "                    'subsample': [0.8, 1.0]} # regularization term\n",
    "\n",
    "# Function to load the model\n",
    "def load_model(model):\n",
    "    if model == 'LogisticRegression':\n",
    "        return LogisticRegression()\n",
    "    elif model == \"DecisionTreeClassifier\":\n",
    "        return DecisionTreeClassifier(random_state=42)\n",
    "    elif model == 'RandomForestClassifier':\n",
    "        return RandomForestClassifier(random_state=42)\n",
    "    elif model == 'KNeighborsClassifier':\n",
    "        return KNeighborsClassifier()\n",
    "    elif model == 'SVC':\n",
    "        return SVC(random_state=42)\n",
    "    elif model == 'xgb':\n",
    "        return xgb.XGBClassifier()\n"
   ]
  },
  {
   "cell_type": "code",
   "execution_count": null,
   "metadata": {},
   "outputs": [
    {
     "name": "stdout",
     "output_type": "stream",
     "text": [
      "Model : LogisticRegression(C=10000.0)\n",
      "Score from Test Set : 0.6153846153846154, F1-score : 0.6666666666666666\n",
      "              precision    recall  f1-score   support\n",
      "\n",
      "           0       0.67      0.46      0.55        13\n",
      "           1       0.59      0.77      0.67        13\n",
      "\n",
      "    accuracy                           0.62        26\n",
      "   macro avg       0.63      0.62      0.61        26\n",
      "weighted avg       0.63      0.62      0.61        26\n",
      "\n",
      "Score from Train Set : 0.56\n",
      "Model : KNeighborsClassifier(n_neighbors=8)\n",
      "Score from Test Set : 0.6923076923076923, F1-score : 0.7333333333333333\n",
      "              precision    recall  f1-score   support\n",
      "\n",
      "           0       0.78      0.54      0.64        13\n",
      "           1       0.65      0.85      0.73        13\n",
      "\n",
      "    accuracy                           0.69        26\n",
      "   macro avg       0.71      0.69      0.68        26\n",
      "weighted avg       0.71      0.69      0.68        26\n",
      "\n",
      "Score from Train Set : 0.76\n",
      "Model : RandomForestClassifier(max_depth=2, min_samples_split=3, n_estimators=200,\n",
      "                       random_state=42)\n",
      "Score from Test Set : 0.6153846153846154, F1-score : 0.6666666666666666\n",
      "              precision    recall  f1-score   support\n",
      "\n",
      "           0       0.67      0.46      0.55        13\n",
      "           1       0.59      0.77      0.67        13\n",
      "\n",
      "    accuracy                           0.62        26\n",
      "   macro avg       0.63      0.62      0.61        26\n",
      "weighted avg       0.63      0.62      0.61        26\n",
      "\n",
      "Score from Train Set : 0.69\n",
      "Model : DecisionTreeClassifier(criterion='entropy', max_depth=3, random_state=42)\n",
      "Score from Test Set : 0.5, F1-score : 0.5517241379310345\n",
      "              precision    recall  f1-score   support\n",
      "\n",
      "           0       0.50      0.38      0.43        13\n",
      "           1       0.50      0.62      0.55        13\n",
      "\n",
      "    accuracy                           0.50        26\n",
      "   macro avg       0.50      0.50      0.49        26\n",
      "weighted avg       0.50      0.50      0.49        26\n",
      "\n",
      "Score from Train Set : 0.71\n",
      "Model : SVC(C=0.1, kernel='poly', random_state=42)\n",
      "Score from Test Set : 0.7307692307692307, F1-score : 0.7407407407407407\n",
      "              precision    recall  f1-score   support\n",
      "\n",
      "           0       0.75      0.69      0.72        13\n",
      "           1       0.71      0.77      0.74        13\n",
      "\n",
      "    accuracy                           0.73        26\n",
      "   macro avg       0.73      0.73      0.73        26\n",
      "weighted avg       0.73      0.73      0.73        26\n",
      "\n",
      "Score from Train Set : 0.63\n"
     ]
    }
   ],
   "source": [
    "best_model = \"\"\n",
    "best_score = 0\n",
    "\n",
    "for model in models:\n",
    "    gs = GridSearchCV(estimator = load_model(model), param_grid = param_grid[model], \n",
    "                      cv=StratifiedKFold(n_splits=4, shuffle=True, random_state=42))\n",
    "    gs.fit(X_train, y_train)\n",
    "    model_param = gs.best_estimator_\n",
    "    y_pred_test = model_param.predict(X_test)\n",
    "    test_score = 0\n",
    "    test_score = accuracy_score(y_test, y_pred_test)\n",
    "    f1 = f1_score(y_test, y_pred_test)\n",
    "    print(f\"Model : {model_param}\")\n",
    "    print(f\"Score from Test Set : {test_score}, F1-score : {f1}\")\n",
    "    print(classification_report(y_test, y_pred_test))\n",
    "    if test_score > best_score:\n",
    "        best_score = test_score\n",
    "        best_model =  model_param\n",
    "\n",
    "    y_pred_train = model_param.predict(X_train)\n",
    "    train_score = accuracy_score(y_train, y_pred_train)\n",
    "    print(f\"Score from Train Set : {train_score}\")\n",
    "\n",
    "print(f\"Best model is :{best_model} with the test score of {best_score}\")"
   ]
  },
  {
   "cell_type": "markdown",
   "metadata": {},
   "source": [
    "# Conclusion\n",
    "\n",
    "### Model performance\n",
    "\n",
    "| Model | Test Score (Accuracy) | Test Score (F-1 Score) | Train Score (Accuracy) |\n",
    "|-------|-------------|----------| ----- |\n",
    "| Logistic Regression | 0.61 | 0.66 | 0.56 |\n",
    "| KNN | 0.69| 0.73 | 0.76 |\n",
    "| Random Forest| 0.61 | 0.66 | 0.69 |\n",
    "| Decision Tree | 0.50 | 0.55 | 0.71 |\n",
    "| SVC | 0.73 | 0.74 | 0.63 |\n",
    "| XGBoost | 0.57 | 0.62 | 0.89 |\n",
    "\n",
    "\n",
    "\n",
    "The SVC model performed the best with a test accuracy of 73% and an F1 score of 74%, which is slightly higher due to the class imbalance in the dataset. SVC tends to handle small datasets better than more complex models like XGBoost, which typically performs well on larger datasets. Given the small size of the dataset, SVC's simpler model structure allows it to generalize better and avoid overfitting compared to more complex models that might require more data to fully capture patterns.\n",
    "\n",
    "### Feature Selection\n",
    "\n",
    "In terms of features, X5 (\"I am satisfied with my courier\") has the highest correlation with customer satisfaction, followed by X1 (\"My order was delivered on time\"), which both related to the shipment. X2 (\"Contents of my order was as I expected\") shows the lowest correlation.\n",
    "\n",
    "I would suggest the company to gather more feedbacks related to the shipment process and potentially remove X2 feature from the future surveys to enhance the company's predictive capabilities and growth potential."
   ]
  }
 ],
 "metadata": {
  "kernelspec": {
   "display_name": "base",
   "language": "python",
   "name": "python3"
  },
  "language_info": {
   "codemirror_mode": {
    "name": "ipython",
    "version": 3
   },
   "file_extension": ".py",
   "mimetype": "text/x-python",
   "name": "python",
   "nbconvert_exporter": "python",
   "pygments_lexer": "ipython3",
   "version": "3.12.4"
  }
 },
 "nbformat": 4,
 "nbformat_minor": 2
}
